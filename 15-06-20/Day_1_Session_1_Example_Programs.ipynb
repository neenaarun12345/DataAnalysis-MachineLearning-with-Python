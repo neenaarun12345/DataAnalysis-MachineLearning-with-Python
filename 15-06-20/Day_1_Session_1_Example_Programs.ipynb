{
  "nbformat": 4,
  "nbformat_minor": 0,
  "metadata": {
    "colab": {
      "name": "Untitled16.ipynb",
      "provenance": []
    },
    "kernelspec": {
      "name": "python3",
      "display_name": "Python 3"
    }
  },
  "cells": [
    {
      "cell_type": "markdown",
      "metadata": {
        "id": "3PpuZDJ-uPNb",
        "colab_type": "text"
      },
      "source": [
        "\n",
        "Python Program to Add Two Numbers getting through key board"
      ]
    },
    {
      "cell_type": "code",
      "metadata": {
        "id": "z-u4oEf1t5vV",
        "colab_type": "code",
        "colab": {
          "base_uri": "https://localhost:8080/",
          "height": 68
        },
        "outputId": "53b105e2-a02e-4c6f-b6b4-e220fc67e477"
      },
      "source": [
        "num1 = int(input(\"Enter first no \"))\n",
        "num2 = int(input(\"Enter second no \"))\n",
        "\n",
        "# Adding the two numbers\n",
        "sum = num1 + num2\n",
        "\n",
        "# Display the sum\n",
        "print('The sum of {0} and {1} is {2}'.format(num1, num2, sum))"
      ],
      "execution_count": 1,
      "outputs": [
        {
          "output_type": "stream",
          "text": [
            "Enter first no 3\n",
            "Enter second no 4\n",
            "The sum of 3 and 4 is 7\n"
          ],
          "name": "stdout"
        }
      ]
    },
    {
      "cell_type": "markdown",
      "metadata": {
        "id": "40iKEqntuaNU",
        "colab_type": "text"
      },
      "source": [
        "Python program to check if the input year is a leap year or not"
      ]
    },
    {
      "cell_type": "code",
      "metadata": {
        "id": "QHUAIUAgubR4",
        "colab_type": "code",
        "colab": {
          "base_uri": "https://localhost:8080/",
          "height": 51
        },
        "outputId": "fd6de0c1-6ccf-459e-9dd0-9d12289d33c1"
      },
      "source": [
        "year = int(input(\"Enter a year: \"))\n",
        "if ((year % 4) == 0 and (year % 100)  != 0) or ((year % 400) == 0):\n",
        "  print(\"{0} is a leap year\".format(year))\n",
        "else:\n",
        "  print(\"{0} is not a leap year\".format(year))"
      ],
      "execution_count": 2,
      "outputs": [
        {
          "output_type": "stream",
          "text": [
            "Enter a year: 2005\n",
            "2005 is not a leap year\n"
          ],
          "name": "stdout"
        }
      ]
    },
    {
      "cell_type": "markdown",
      "metadata": {
        "id": "i1aA2vo4unHK",
        "colab_type": "text"
      },
      "source": [
        "Program to generate a random number between 0 and 9"
      ]
    },
    {
      "cell_type": "code",
      "metadata": {
        "id": "-5jcs1xEuonT",
        "colab_type": "code",
        "colab": {
          "base_uri": "https://localhost:8080/",
          "height": 34
        },
        "outputId": "128500fa-b99e-403f-857b-d7f3808cd689"
      },
      "source": [
        "import random\n",
        "print(random.randint(0,9))"
      ],
      "execution_count": 3,
      "outputs": [
        {
          "output_type": "stream",
          "text": [
            "6\n"
          ],
          "name": "stdout"
        }
      ]
    },
    {
      "cell_type": "markdown",
      "metadata": {
        "id": "uRGmvAVxuwtu",
        "colab_type": "text"
      },
      "source": [
        "Calculator Program"
      ]
    },
    {
      "cell_type": "code",
      "metadata": {
        "id": "sKYZPYAkuzFJ",
        "colab_type": "code",
        "colab": {
          "base_uri": "https://localhost:8080/",
          "height": 1000
        },
        "outputId": "d80edf66-68f3-44d9-e45e-f06c8dbc5e7b"
      },
      "source": [
        "loop = 1 # 1 means loop; anything else means don't loop.\n",
        "choice = 0 # This variable holds the user's choice in the menu\n",
        "\n",
        "def add(x,y):\n",
        "    return x+y      \n",
        "def sub(x,y):\n",
        "    return x-y\n",
        "def mul(x,y):\n",
        "    return x*y\t\n",
        "def div(x,y):\n",
        "    return x/y\n",
        "\n",
        "while loop == 1:\n",
        "# Print what options you have\n",
        "  print (\"Welcome to calculator.py\")\n",
        "  print (\"your options are:\") \n",
        "  print (\"\")\n",
        "  print(\"1) Addition\")\n",
        "  print(\"2) Subtraction\")\n",
        "  print(\"3) Multiplication\")\n",
        "  print(\"4) Division\")\n",
        "  print(\"5) Quit calculator.py\")\n",
        "  print(\"\")\n",
        "  try:\n",
        "    choice = int(input(\"Choose your option: \"))\n",
        "  except:\n",
        "    print('please enter a valid number for option')\n",
        "    print(\"\")\n",
        "    print(\"\")\n",
        "  if choice == 1:\n",
        "    x = int(input(\"Enter 1st no: \"))\n",
        "    y = int(input(\"Enter 2nd no: \"))\n",
        "    print(\"The answer is \",add(x,y))\n",
        "\n",
        "  elif choice == 2:\n",
        "    x = int(input(\"Enter 1st no: \"))\n",
        "    y = int(input(\"Enter 2nd no: \"))\n",
        "    print(\"answer is \",sub(x,y))\n",
        "\n",
        "  elif choice == 3:\n",
        "    x = int(input(\"Enter 1st no: \"))\n",
        "    y = int(input(\"Enter 2nd no: \"))\n",
        "    print(\"answer is \",mul(x,y))\n",
        "\n",
        "  elif choice == 4:\n",
        "    x = int(input(\"Enter 1st no: \"))\n",
        "    y = int(input(\"Enter 2nd no: \"))\n",
        "    print(\"answer is \",div(x,y))\n",
        "\n",
        "  elif choice == 5:\n",
        "    loop = 0\n",
        "\n",
        "  else:\n",
        "    print(\"please choice a valid option from 1 to 5\")\n",
        "    choice=0\n",
        "    print (\"Thank-you for using calculator.py!\")"
      ],
      "execution_count": 5,
      "outputs": [
        {
          "output_type": "stream",
          "text": [
            "Welcome to calculator.py\n",
            "your options are:\n",
            "\n",
            "1) Addition\n",
            "2) Subtraction\n",
            "3) Multiplication\n",
            "4) Division\n",
            "5) Quit calculator.py\n",
            "\n",
            "Choose your option: 1\n",
            "Enter 1st no: 1\n",
            "Enter 2nd no: 2\n",
            "The answer is  3\n",
            "Welcome to calculator.py\n",
            "your options are:\n",
            "\n",
            "1) Addition\n",
            "2) Subtraction\n",
            "3) Multiplication\n",
            "4) Division\n",
            "5) Quit calculator.py\n",
            "\n",
            "Choose your option: 2\n",
            "Enter 1st no: 1\n",
            "Enter 2nd no: 2\n",
            "answer is  -1\n",
            "Welcome to calculator.py\n",
            "your options are:\n",
            "\n",
            "1) Addition\n",
            "2) Subtraction\n",
            "3) Multiplication\n",
            "4) Division\n",
            "5) Quit calculator.py\n",
            "\n",
            "Choose your option: 3\n",
            "Enter 1st no: 1\n",
            "Enter 2nd no: 2\n",
            "answer is  2\n",
            "Welcome to calculator.py\n",
            "your options are:\n",
            "\n",
            "1) Addition\n",
            "2) Subtraction\n",
            "3) Multiplication\n",
            "4) Division\n",
            "5) Quit calculator.py\n",
            "\n",
            "Choose your option: 4\n",
            "Enter 1st no: 1\n",
            "Enter 2nd no: 2\n",
            "answer is  0.5\n",
            "Welcome to calculator.py\n",
            "your options are:\n",
            "\n",
            "1) Addition\n",
            "2) Subtraction\n",
            "3) Multiplication\n",
            "4) Division\n",
            "5) Quit calculator.py\n",
            "\n",
            "Choose your option: 5\n"
          ],
          "name": "stdout"
        }
      ]
    },
    {
      "cell_type": "markdown",
      "metadata": {
        "id": "pMyUHxsPvKu4",
        "colab_type": "text"
      },
      "source": [
        "Python Program to Convert Kilometers to Miles"
      ]
    },
    {
      "cell_type": "code",
      "metadata": {
        "id": "QFpXtHpxvLrM",
        "colab_type": "code",
        "colab": {
          "base_uri": "https://localhost:8080/",
          "height": 51
        },
        "outputId": "b1eb9489-05b0-4d39-9d7a-8b94d923dcae"
      },
      "source": [
        "kilometers = int(input(\"Enter value in kilometers\"))\n",
        "\n",
        "# conversion factor\n",
        "conv_fac = 0.621371\n",
        "\n",
        "# calculate miles\n",
        "miles = kilometers * conv_fac\n",
        "print('%0.3f kilometers is equal to %0.3f miles' %(kilometers,miles))"
      ],
      "execution_count": 6,
      "outputs": [
        {
          "output_type": "stream",
          "text": [
            "Enter value in kilometers100\n",
            "100.000 kilometers is equal to 62.137 miles\n"
          ],
          "name": "stdout"
        }
      ]
    },
    {
      "cell_type": "markdown",
      "metadata": {
        "id": "NW6oCSnnvUor",
        "colab_type": "text"
      },
      "source": [
        "Python Program to Solve Quadratic Equation"
      ]
    },
    {
      "cell_type": "code",
      "metadata": {
        "id": "uSgUtVssvVxh",
        "colab_type": "code",
        "colab": {
          "base_uri": "https://localhost:8080/",
          "height": 85
        },
        "outputId": "76c2c002-d87d-4588-d9f7-e9febff059cf"
      },
      "source": [
        "import cmath\n",
        "\n",
        "# To take coefficient input from the users\n",
        "a = float(input('Enter a: '))\n",
        "b = float(input('Enter b: '))\n",
        "c = float(input('Enter c: '))\n",
        "\n",
        "# calculate the discriminant\n",
        "d = (b**2) - (4*a*c)\n",
        "\n",
        "# find two solutions\n",
        "sol1 = (-b-cmath.sqrt(d))/(2*a)\n",
        "sol2 = (-b+cmath.sqrt(d))/(2*a)\n",
        "\n",
        "print('The solution are {0} and {1}'.format(sol1,sol2))"
      ],
      "execution_count": 7,
      "outputs": [
        {
          "output_type": "stream",
          "text": [
            "Enter a: 2\n",
            "Enter b: 3\n",
            "Enter c: 4\n",
            "The solution are (-0.75-1.1989578808281798j) and (-0.75+1.1989578808281798j)\n"
          ],
          "name": "stdout"
        }
      ]
    },
    {
      "cell_type": "markdown",
      "metadata": {
        "id": "VSJGa6oCvciQ",
        "colab_type": "text"
      },
      "source": [
        "Python Program to find prime or not using function"
      ]
    },
    {
      "cell_type": "code",
      "metadata": {
        "id": "en8Wyuevve2a",
        "colab_type": "code",
        "colab": {
          "base_uri": "https://localhost:8080/",
          "height": 51
        },
        "outputId": "b193d8ef-8306-4bc1-e644-ecc733a7c9a6"
      },
      "source": [
        "def test_prime(n):\n",
        "  if (n==1):\n",
        "    return False\n",
        "  elif (n==2):\n",
        "    return True;\n",
        "  else:\n",
        "    for x in range(2,n):\n",
        "      if(n % x==0):\n",
        "        return False\n",
        "      return True\n",
        "no=int(input(\"Enter the number\"))\n",
        "if (test_prime(no)) is True :\n",
        "  print(\" {0} is a prime no\".format(no))\n",
        "else:\n",
        "  print(\" {0} is not a prime no\".format(no))\n"
      ],
      "execution_count": 8,
      "outputs": [
        {
          "output_type": "stream",
          "text": [
            "Enter the number34\n",
            " 34 is not a prime no\n"
          ],
          "name": "stdout"
        }
      ]
    }
  ]
}