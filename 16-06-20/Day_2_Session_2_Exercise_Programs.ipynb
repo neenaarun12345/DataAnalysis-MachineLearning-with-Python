{
  "nbformat": 4,
  "nbformat_minor": 0,
  "metadata": {
    "colab": {
      "name": "Untitled21.ipynb",
      "provenance": [],
      "collapsed_sections": []
    },
    "kernelspec": {
      "name": "python3",
      "display_name": "Python 3"
    }
  },
  "cells": [
    {
      "cell_type": "markdown",
      "metadata": {
        "id": "7ss57vRwMsBe",
        "colab_type": "text"
      },
      "source": [
        "Add rollno and marks {name:mark} for n number of students through keyboard in a dictionary and print the marks in descending order with respective name."
      ]
    },
    {
      "cell_type": "code",
      "metadata": {
        "id": "HzudHp93Mjjp",
        "colab_type": "code",
        "colab": {
          "base_uri": "https://localhost:8080/",
          "height": 153
        },
        "outputId": "4899dc9e-eeb2-459f-ed70-770d26752a8a"
      },
      "source": [
        "import operator\n",
        "d={}\n",
        "for i in range(int(input(\"Enter number of students: \"))):\n",
        "  str1=input(\"Enter name: \")\n",
        "  x=int(input(\"Enter marks: \"))\n",
        "  d[str1]=x\n",
        "sorted_d= sorted(d.items(), key=operator.itemgetter(1),reverse=True)\n",
        "print(sorted_d)"
      ],
      "execution_count": 1,
      "outputs": [
        {
          "output_type": "stream",
          "text": [
            "Enter number of students: 3\n",
            "Enter name: teena\n",
            "Enter marks: 100\n",
            "Enter name: neena\n",
            "Enter marks: 99\n",
            "Enter name: reena\n",
            "Enter marks: 98\n",
            "[('teena', 100), ('neena', 99), ('reena', 98)]\n"
          ],
          "name": "stdout"
        }
      ]
    },
    {
      "cell_type": "markdown",
      "metadata": {
        "id": "URQ02nMUNUBj",
        "colab_type": "text"
      },
      "source": [
        "Add name and salary {name:salary} for n number of employees through keyboard in a dictionary and print them in name alphabetical order with salary"
      ]
    },
    {
      "cell_type": "code",
      "metadata": {
        "id": "VWOV7ABkNV-m",
        "colab_type": "code",
        "colab": {
          "base_uri": "https://localhost:8080/",
          "height": 119
        },
        "outputId": "91815c72-98c7-4c52-f3ec-6519ec79fa35"
      },
      "source": [
        "import operator\n",
        "\n",
        "d={}\n",
        "for i in range(int(input(\"Enter number of employees: \"))):\n",
        "  str1=input(\"Enter name: \")\n",
        "  x=int(input(\"Enter salary: \"))\n",
        "  d[str1]=x\n",
        "sorted_a= sorted(d.items(), key=operator.itemgetter(0))\n",
        "print(sorted_a)"
      ],
      "execution_count": 2,
      "outputs": [
        {
          "output_type": "stream",
          "text": [
            "Enter number of employees: 2\n",
            "Enter name: neena\n",
            "Enter salary: 70000\n",
            "Enter name: teena\n",
            "Enter salary: 80000\n",
            "[('neena', 70000), ('teena', 80000)]\n"
          ],
          "name": "stdout"
        }
      ]
    },
    {
      "cell_type": "markdown",
      "metadata": {
        "id": "iN4Xw67RNh6a",
        "colab_type": "text"
      },
      "source": [
        "Add name and salary {name:salary} for n number of employees through keyboard in a dictionary and print them in salary ascending order and sum, max, min and average of the salaries"
      ]
    },
    {
      "cell_type": "code",
      "metadata": {
        "id": "szBLax3lNlRT",
        "colab_type": "code",
        "colab": {
          "base_uri": "https://localhost:8080/",
          "height": 221
        },
        "outputId": "7c157b9a-ef8a-437b-e920-db60a9829ae4"
      },
      "source": [
        "import operator\n",
        "\n",
        "d={}\n",
        "for i in range(int(input(\"Enter number of employees: \"))):\n",
        "  str1=input(\"Enter name: \")\n",
        "  x=int(input(\"Enter salary: \"))\n",
        "  d[str1]=x\n",
        "sorted_a= sorted(d.items(), key=operator.itemgetter(1))\n",
        "print(sorted_a)\n",
        "print(\"Sum is\",sum(d.values()))\n",
        "print(\"Max is\",max(d.values()))\n",
        "print(\"Min is\",min(d.values()))\n",
        "print(\"Avg is\",sum(d.values())/len(d))"
      ],
      "execution_count": 3,
      "outputs": [
        {
          "output_type": "stream",
          "text": [
            "Enter number of employees: 3\n",
            "Enter name: neena\n",
            "Enter salary: 70000\n",
            "Enter name: teena\n",
            "Enter salary: 45000\n",
            "Enter name: reena\n",
            "Enter salary: 54000\n",
            "[('teena', 45000), ('reena', 54000), ('neena', 70000)]\n",
            "Sum is 169000\n",
            "Max is 70000\n",
            "Min is 45000\n",
            "Avg is 56333.333333333336\n"
          ],
          "name": "stdout"
        }
      ]
    },
    {
      "cell_type": "markdown",
      "metadata": {
        "id": "4myXLwQ0N10I",
        "colab_type": "text"
      },
      "source": [
        "Add name and salary {name:salary} for n number of employees through keyboard in a dictionary and print only the employees whose salary is greater than 2000 but less than 4000"
      ]
    },
    {
      "cell_type": "code",
      "metadata": {
        "id": "oBw_K_yyN3eW",
        "colab_type": "code",
        "colab": {
          "base_uri": "https://localhost:8080/",
          "height": 153
        },
        "outputId": "fbf7c063-f738-4af2-fbcc-6803f4e774b1"
      },
      "source": [
        "d={}\n",
        "for i in range(int(input(\"Enter number of employees: \"))):\n",
        "  str1=input(\"Enter name: \")\n",
        "  x=int(input(\"Enter salary: \"))\n",
        "  d[str1]=x\n",
        "s2 = {key:val for key, val in d.items() if val > 2000 and val < 4000}\n",
        "print(s2)"
      ],
      "execution_count": 6,
      "outputs": [
        {
          "output_type": "stream",
          "text": [
            "Enter number of employees: 3\n",
            "Enter name: neena\n",
            "Enter salary: 2200\n",
            "Enter name: teena\n",
            "Enter salary: 4000\n",
            "Enter name: reena\n",
            "Enter salary: 7000\n",
            "{'neena': 2200}\n"
          ],
          "name": "stdout"
        }
      ]
    },
    {
      "cell_type": "markdown",
      "metadata": {
        "id": "85RJ61xyOVTy",
        "colab_type": "text"
      },
      "source": [
        "Python program to convert a 3 digit number into words"
      ]
    },
    {
      "cell_type": "code",
      "metadata": {
        "id": "eobH7m8bOWHE",
        "colab_type": "code",
        "colab": {
          "base_uri": "https://localhost:8080/",
          "height": 68
        },
        "outputId": "1ed901b9-d1fc-4ba2-e3ea-7fce3fe06ebe"
      },
      "source": [
        "def convert_to_words(num):  \n",
        "    l = len(num);    \n",
        "    if (l == 0): \n",
        "        print(\"empty string\"); \n",
        "        return; \n",
        "  \n",
        "    if (l > 4): \n",
        "        print(\"Length more than 4 is not supported\"); \n",
        "        return;   \n",
        "    single_digits = [\"zero\", \"one\", \"two\", \"three\",  \n",
        "                     \"four\", \"five\", \"six\", \"seven\",  \n",
        "                     \"eight\", \"nine\"];  \n",
        "    two_digits = [\"\", \"ten\", \"eleven\", \"twelve\",  \n",
        "                  \"thirteen\", \"fourteen\", \"fifteen\",  \n",
        "                  \"sixteen\", \"seventeen\", \"eighteen\", \n",
        "                  \"nineteen\"];  \n",
        "    tens_multiple = [\"\", \"\", \"twenty\", \"thirty\", \"forty\", \n",
        "                     \"fifty\", \"sixty\", \"seventy\", \"eighty\",  \n",
        "                     \"ninety\"]; \n",
        "    tens_power = [\"hundred\", \"thousand\"];   \n",
        "    print(num, \":\", end = \" \");   \n",
        "    if (l == 1):  \n",
        "        print(single_digits[ord(num[0]) - '0']); \n",
        "        return;  \n",
        "    x = 0; \n",
        "    while (x < len(num)):    \n",
        "        if (l >= 3): \n",
        "            if (ord(num[x]) - 48 != 0): \n",
        "                print(single_digits[ord(num[x]) - 48],  \n",
        "                                           end = \" \"); \n",
        "                print(tens_power[l - 3], end = \" \");  \n",
        "                  \n",
        "            l -= 1; \n",
        "        else:   \n",
        "            if (ord(num[x]) - 48 == 1):  \n",
        "                sum = (ord(num[x]) - 48 + \n",
        "                       ord(num[x]) - 48); \n",
        "                print(two_digits[sum]); \n",
        "                return;   \n",
        "            elif (ord(num[x]) - 48 == 2 and \n",
        "                  ord(num[x + 1]) - 48 == 0): \n",
        "                print(\"twenty\"); \n",
        "                return;  \n",
        "            else: \n",
        "                i = ord(num[x]) - 48; \n",
        "                if(i > 0): \n",
        "                    print(tens_multiple[i], end = \" \"); \n",
        "                else: \n",
        "                    print(\"\", end = \"\"); \n",
        "                x += 1; \n",
        "                if(ord(num[x]) - 48 != 0): \n",
        "                    print(single_digits[ord(num[x]) - 48]); \n",
        "        x += 1;  \n",
        "convert_to_words(\"923\"); \n",
        "convert_to_words(\"523\"); \n",
        "convert_to_words(\"898\");"
      ],
      "execution_count": 7,
      "outputs": [
        {
          "output_type": "stream",
          "text": [
            "923 : nine hundred twenty three\n",
            "523 : five hundred twenty three\n",
            "898 : eight hundred ninety eight\n"
          ],
          "name": "stdout"
        }
      ]
    },
    {
      "cell_type": "markdown",
      "metadata": {
        "id": "tem78g6u6u9y",
        "colab_type": "text"
      },
      "source": [
        "Python Program to read a file and capitalize the first letter of every word in the file and copy the every word capitalized content into another file and read it"
      ]
    },
    {
      "cell_type": "code",
      "metadata": {
        "id": "IRuI6TKL6vWB",
        "colab_type": "code",
        "colab": {
          "base_uri": "https://localhost:8080/",
          "height": 102
        },
        "outputId": "53f8ca28-025a-4d7c-9219-b3c355d1c14d"
      },
      "source": [
        "fname = input(\"Enter file name: \")\n",
        "fname1 = input(\"Enter another filename: \")\n",
        "with open(fname, 'r') as f:\n",
        "  with open(fname1, \"w\") as f1:\n",
        "    for line in f:\n",
        "        l=line.title()\n",
        "        f1.write(l)\n",
        "        print(l)"
      ],
      "execution_count": 3,
      "outputs": [
        {
          "output_type": "stream",
          "text": [
            "Enter file name: /content/copy.txt\n",
            "Enter another filename: /content/current.txt\n",
            "Hiiii\n",
            "\n",
            "Hllo\n"
          ],
          "name": "stdout"
        }
      ]
    },
    {
      "cell_type": "markdown",
      "metadata": {
        "id": "S0TPGjV17ZqU",
        "colab_type": "text"
      },
      "source": [
        "Python Program to count the number of blank spaces in a text file."
      ]
    },
    {
      "cell_type": "code",
      "metadata": {
        "id": "JREwtD3M7acp",
        "colab_type": "code",
        "colab": {
          "base_uri": "https://localhost:8080/",
          "height": 68
        },
        "outputId": "c30e583e-2889-42d5-abbb-373f17b279da"
      },
      "source": [
        "fname = input(\"Enter file name: \")\n",
        "k = 0\n",
        " \n",
        "with open(fname, 'r') as f:\n",
        "    for line in f:\n",
        "        words = line.split()\n",
        "        for i in words:\n",
        "            for letter in i:\n",
        "                if(letter.isspace):\n",
        "                    k=k+1\n",
        "print(\"Occurrences of blank spaces:\")\n",
        "print(k)"
      ],
      "execution_count": 4,
      "outputs": [
        {
          "output_type": "stream",
          "text": [
            "Enter file name: /content/copy.txt\n",
            "Occurrences of blank spaces:\n",
            "9\n"
          ],
          "name": "stdout"
        }
      ]
    },
    {
      "cell_type": "markdown",
      "metadata": {
        "id": "qvVi6JhU7pVg",
        "colab_type": "text"
      },
      "source": [
        "Python Program to append the contents of one file to another file by getting the both file names through keyboard"
      ]
    },
    {
      "cell_type": "code",
      "metadata": {
        "id": "wRG5MFtS7rDb",
        "colab_type": "code",
        "colab": {
          "base_uri": "https://localhost:8080/",
          "height": 51
        },
        "outputId": "6f6149bd-3e0c-4746-a3e8-1080f05e98ae"
      },
      "source": [
        "fname = input(\"Enter filename: \")\n",
        "fname1 = input(\"Enter another filename: \")\n",
        "with open(fname) as f:\n",
        "    with open(fname1, \"w\") as f1:\n",
        "        for line in f:\n",
        "            f1.write(line)"
      ],
      "execution_count": 5,
      "outputs": [
        {
          "output_type": "stream",
          "text": [
            "Enter filename: /content/copy.txt\n",
            "Enter another filename: /content/current.txt\n"
          ],
          "name": "stdout"
        }
      ]
    },
    {
      "cell_type": "markdown",
      "metadata": {
        "id": "NWoZ_rIA778n",
        "colab_type": "text"
      },
      "source": [
        "\n",
        "Python Program to print all the numbers present in a text file with its total number of occurrence"
      ]
    },
    {
      "cell_type": "code",
      "metadata": {
        "id": "ISViLDtt7-Q4",
        "colab_type": "code",
        "colab": {
          "base_uri": "https://localhost:8080/",
          "height": 51
        },
        "outputId": "75579dda-2064-46a0-94fa-6562f663cfd2"
      },
      "source": [
        "fname = input(\"Enter file name: \")\n",
        "d={x:0 for x in range(0,10)}\n",
        "with open(fname, 'r') as f:\n",
        "    for line in f:\n",
        "        words = line.split()\n",
        "        for i in words:\n",
        "            for letter in i:\n",
        "                if(letter.isdigit()):\n",
        "                    d[int(letter)]+=1\n",
        "d1 = {key:val for key, val in d.items() if val > 0}\n",
        "print(d1)"
      ],
      "execution_count": 6,
      "outputs": [
        {
          "output_type": "stream",
          "text": [
            "Enter file name: /content/copy.txt\n",
            "{}\n"
          ],
          "name": "stdout"
        }
      ]
    },
    {
      "cell_type": "markdown",
      "metadata": {
        "id": "YvPYRVuD8JTr",
        "colab_type": "text"
      },
      "source": [
        "Python Program to count the total number of charaters (except blank space) in a text file."
      ]
    },
    {
      "cell_type": "code",
      "metadata": {
        "id": "WEqw9NA88KUU",
        "colab_type": "code",
        "colab": {
          "base_uri": "https://localhost:8080/",
          "height": 68
        },
        "outputId": "e25e9d79-e5fb-4662-cd58-536458c22560"
      },
      "source": [
        "fname = input(\"Enter file name: \")\n",
        "k = 0\n",
        "file = open(fname, \"r\")\n",
        "data = file.read().replace(\" \",\"\")\n",
        "k = len(data)\n",
        "print(\"Total number of characters are::\")\n",
        "print(k)"
      ],
      "execution_count": 7,
      "outputs": [
        {
          "output_type": "stream",
          "text": [
            "Enter file name: /content/copy.txt\n",
            "Total number of characters are::\n",
            "10\n"
          ],
          "name": "stdout"
        }
      ]
    }
  ]
}