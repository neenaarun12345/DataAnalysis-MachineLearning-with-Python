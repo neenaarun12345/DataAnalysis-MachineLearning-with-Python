{
  "nbformat": 4,
  "nbformat_minor": 0,
  "metadata": {
    "colab": {
      "name": "Untitled19.ipynb",
      "provenance": []
    },
    "kernelspec": {
      "name": "python3",
      "display_name": "Python 3"
    }
  },
  "cells": [
    {
      "cell_type": "markdown",
      "metadata": {
        "id": "4M9CdFRF98pL",
        "colab_type": "text"
      },
      "source": [
        "print multiples of 3 upto 200 using a list"
      ]
    },
    {
      "cell_type": "code",
      "metadata": {
        "id": "ZDebJNg597B8",
        "colab_type": "code",
        "colab": {
          "base_uri": "https://localhost:8080/",
          "height": 54
        },
        "outputId": "9e3f79bd-0133-4638-90e7-b124104917c7"
      },
      "source": [
        "print([i for i in range(201) if i%3==0] )"
      ],
      "execution_count": null,
      "outputs": [
        {
          "output_type": "stream",
          "text": [
            "[0, 3, 6, 9, 12, 15, 18, 21, 24, 27, 30, 33, 36, 39, 42, 45, 48, 51, 54, 57, 60, 63, 66, 69, 72, 75, 78, 81, 84, 87, 90, 93, 96, 99, 102, 105, 108, 111, 114, 117, 120, 123, 126, 129, 132, 135, 138, 141, 144, 147, 150, 153, 156, 159, 162, 165, 168, 171, 174, 177, 180, 183, 186, 189, 192, 195, 198]\n"
          ],
          "name": "stdout"
        }
      ]
    },
    {
      "cell_type": "markdown",
      "metadata": {
        "id": "WJBiLusn-MmE",
        "colab_type": "text"
      },
      "source": [
        "print the nos only divisable by 5 and 7 between 1000 and 2000 using a list( both inclusive)"
      ]
    },
    {
      "cell_type": "code",
      "metadata": {
        "id": "LX2MHUT--RrT",
        "colab_type": "code",
        "colab": {
          "base_uri": "https://localhost:8080/",
          "height": 54
        },
        "outputId": "9aead4fd-d57f-4f34-d592-e9b94bd2a5c9"
      },
      "source": [
        "print([i for i in range(1000,2001) if i%5==0 and i%7==0])"
      ],
      "execution_count": null,
      "outputs": [
        {
          "output_type": "stream",
          "text": [
            "[1015, 1050, 1085, 1120, 1155, 1190, 1225, 1260, 1295, 1330, 1365, 1400, 1435, 1470, 1505, 1540, 1575, 1610, 1645, 1680, 1715, 1750, 1785, 1820, 1855, 1890, 1925, 1960, 1995]\n"
          ],
          "name": "stdout"
        }
      ]
    },
    {
      "cell_type": "markdown",
      "metadata": {
        "id": "qn5AodkD-cOY",
        "colab_type": "text"
      },
      "source": [
        "Add the n number of names in a list and print them alphabetically and reverse alphabetically."
      ]
    },
    {
      "cell_type": "code",
      "metadata": {
        "id": "p9gLJpIS-7xe",
        "colab_type": "code",
        "colab": {
          "base_uri": "https://localhost:8080/",
          "height": 136
        },
        "outputId": "1504a754-9bf4-49a5-d9d1-87911ae8cf36"
      },
      "source": [
        "names=[input() for i in range(int(input(\"Enter number of string\")))]\n",
        "names.sort()\n",
        "print(names)\n",
        "names.sort(reverse=True)\n",
        "print(names)"
      ],
      "execution_count": 7,
      "outputs": [
        {
          "output_type": "stream",
          "text": [
            "Enter number of string4\n",
            "hiii\n",
            "hello\n",
            "wbu\n",
            "nice\n",
            "['hello', 'hiii', 'nice', 'wbu']\n",
            "['wbu', 'nice', 'hiii', 'hello']\n"
          ],
          "name": "stdout"
        }
      ]
    },
    {
      "cell_type": "markdown",
      "metadata": {
        "id": "0WMbhZwz_QR_",
        "colab_type": "text"
      },
      "source": [
        "Print perfect squares and divisible by 5 between 500 and 1000( (both inclusive) using list"
      ]
    },
    {
      "cell_type": "code",
      "metadata": {
        "id": "P1K3WvD6_TmJ",
        "colab_type": "code",
        "colab": {
          "base_uri": "https://localhost:8080/",
          "height": 34
        },
        "outputId": "bf443e8d-8f3c-47bd-c082-3d7c2f1dad02"
      },
      "source": [
        "import math as m\n",
        "print([i for i in range(500,1001) if i%5==0 and int((m.sqrt(i)))**2==i ] )"
      ],
      "execution_count": 8,
      "outputs": [
        {
          "output_type": "stream",
          "text": [
            "[625, 900]\n"
          ],
          "name": "stdout"
        }
      ]
    },
    {
      "cell_type": "markdown",
      "metadata": {
        "id": "iEPQIiiK_ZmZ",
        "colab_type": "text"
      },
      "source": [
        "Get a string and store word by word as elements in a tuple and find the largest word in the tuple and print it"
      ]
    },
    {
      "cell_type": "code",
      "metadata": {
        "id": "sOhuWbyx_art",
        "colab_type": "code",
        "colab": {
          "base_uri": "https://localhost:8080/",
          "height": 51
        },
        "outputId": "4de23769-70fb-4643-912b-27132fcf7bc4"
      },
      "source": [
        "print(max((tuple(input(\"Enter a string\").split())),key=len))"
      ],
      "execution_count": 9,
      "outputs": [
        {
          "output_type": "stream",
          "text": [
            "Enter a stringhiii\n",
            "hiii\n"
          ],
          "name": "stdout"
        }
      ]
    },
    {
      "cell_type": "markdown",
      "metadata": {
        "id": "nvEPolsZ_lXm",
        "colab_type": "text"
      },
      "source": [
        "Get rollno and marks (Rollno, mark) as list of tuples for n number of students through keyboard and print them in marks descending order with rollno."
      ]
    },
    {
      "cell_type": "code",
      "metadata": {
        "id": "krF1zy4H_mZp",
        "colab_type": "code",
        "colab": {
          "base_uri": "https://localhost:8080/",
          "height": 102
        },
        "outputId": "25d784a6-af6a-4aca-b7a5-af5068f3fdf7"
      },
      "source": [
        "print(sorted(list(tuple(map(int, input(\"Enter the numbers : \").split())) for i in range(int(input(\"Enter number of students\")))), key=lambda x: x[0],reverse=True))"
      ],
      "execution_count": 10,
      "outputs": [
        {
          "output_type": "stream",
          "text": [
            "Enter number of students3\n",
            "Enter the numbers : 1 20\n",
            "Enter the numbers : 2 30\n",
            "Enter the numbers : 3 45\n",
            "[(3, 45), (2, 30), (1, 20)]\n"
          ],
          "name": "stdout"
        }
      ]
    },
    {
      "cell_type": "markdown",
      "metadata": {
        "id": "gabTmlbQ_z_p",
        "colab_type": "text"
      },
      "source": [
        "Get name and salary (name, salary) as list of tuples for n number of employees through keyboard and print them in name alphabetical order with salary"
      ]
    },
    {
      "cell_type": "code",
      "metadata": {
        "id": "Jwc4fuqm_5fi",
        "colab_type": "code",
        "colab": {
          "base_uri": "https://localhost:8080/",
          "height": 102
        },
        "outputId": "8c4329cd-3a42-4c6f-a320-c473e4c10fb4"
      },
      "source": [
        "print(sorted(list(tuple(input(\"Enter the numbers : \").split()) for i in range(int(input(\"Enter number of students\")))), key=lambda x: x[0]))"
      ],
      "execution_count": 11,
      "outputs": [
        {
          "output_type": "stream",
          "text": [
            "Enter number of students3\n",
            "Enter the numbers : neena 20\n",
            "Enter the numbers : teena 23\n",
            "Enter the numbers : reena 34\n",
            "[('neena', '20'), ('reena', '34'), ('teena', '23')]\n"
          ],
          "name": "stdout"
        }
      ]
    }
  ]
}