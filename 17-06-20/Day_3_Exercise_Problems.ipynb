{
  "nbformat": 4,
  "nbformat_minor": 0,
  "metadata": {
    "colab": {
      "name": "Untitled23.ipynb",
      "provenance": []
    },
    "kernelspec": {
      "name": "python3",
      "display_name": "Python 3"
    }
  },
  "cells": [
    {
      "cell_type": "markdown",
      "metadata": {
        "id": "HKZbud8ABsHD",
        "colab_type": "text"
      },
      "source": [
        "use List Comprehension ds = pd.Series([0,2, 4, 6, 8..... 10000])"
      ]
    },
    {
      "cell_type": "code",
      "metadata": {
        "id": "q-Ny36o_BcL9",
        "colab_type": "code",
        "colab": {
          "base_uri": "https://localhost:8080/",
          "height": 221
        },
        "outputId": "e66140c1-3419-4b46-eb86-84479fcf16bf"
      },
      "source": [
        "import pandas as pd\n",
        "ds = pd.Series([x for x in range(1000) if x%2==0])\n",
        "print(ds)"
      ],
      "execution_count": 1,
      "outputs": [
        {
          "output_type": "stream",
          "text": [
            "0        0\n",
            "1        2\n",
            "2        4\n",
            "3        6\n",
            "4        8\n",
            "      ... \n",
            "495    990\n",
            "496    992\n",
            "497    994\n",
            "498    996\n",
            "499    998\n",
            "Length: 500, dtype: int64\n"
          ],
          "name": "stdout"
        }
      ]
    },
    {
      "cell_type": "markdown",
      "metadata": {
        "id": "Xo355Cp-Bubb",
        "colab_type": "text"
      },
      "source": [
        "Write a Pandas program to convert a Panda module Series of the numbers which are between 1000 and 2000 (both inclusive) and divisable by 5 to Python list and after convertion print its type"
      ]
    },
    {
      "cell_type": "code",
      "metadata": {
        "id": "7fkQRB9pCriP",
        "colab_type": "code",
        "colab": {
          "base_uri": "https://localhost:8080/",
          "height": 221
        },
        "outputId": "efe5435c-646d-4ad2-955d-398522cb413e"
      },
      "source": [
        "import pandas as pd\n",
        "ds = pd.Series([x for x in range(1000,2000) if x%5==0])\n",
        "print(ds)"
      ],
      "execution_count": 2,
      "outputs": [
        {
          "output_type": "stream",
          "text": [
            "0      1000\n",
            "1      1005\n",
            "2      1010\n",
            "3      1015\n",
            "4      1020\n",
            "       ... \n",
            "195    1975\n",
            "196    1980\n",
            "197    1985\n",
            "198    1990\n",
            "199    1995\n",
            "Length: 200, dtype: int64\n"
          ],
          "name": "stdout"
        }
      ]
    },
    {
      "cell_type": "markdown",
      "metadata": {
        "id": "YBdsPwebDQMe",
        "colab_type": "text"
      },
      "source": [
        "Write a Pandas program to add, subtract, multiple and divide two Pandas Series and print their results using the Sample Series: [2, 4, 6, 8, ...100], [1, 3, 5, 7, 9...99]"
      ]
    },
    {
      "cell_type": "code",
      "metadata": {
        "id": "BwoWlfz_DT10",
        "colab_type": "code",
        "colab": {
          "base_uri": "https://localhost:8080/",
          "height": 493
        },
        "outputId": "6a26f147-9331-4d62-d1cb-a7f5546f0ca2"
      },
      "source": [
        "import pandas as pd\n",
        "ds1 = pd.Series([2, 4, 6, 8, 10])\n",
        "ds2 = pd.Series([1, 3, 5, 7, 9])\n",
        "ds = ds1 + ds2\n",
        "print(\"Add two Series:\")\n",
        "print(ds)\n",
        "print(\"Subtract two Series:\")\n",
        "ds = ds1 - ds2\n",
        "print(ds)\n",
        "print(\"Multiply two Series:\")\n",
        "ds = ds1 * ds2\n",
        "print(ds)\n",
        "print(\"Divide Series1 by Series2:\")\n",
        "ds = ds1 / ds2\n",
        "print(ds)"
      ],
      "execution_count": 3,
      "outputs": [
        {
          "output_type": "stream",
          "text": [
            "Add two Series:\n",
            "0     3\n",
            "1     7\n",
            "2    11\n",
            "3    15\n",
            "4    19\n",
            "dtype: int64\n",
            "Subtract two Series:\n",
            "0    1\n",
            "1    1\n",
            "2    1\n",
            "3    1\n",
            "4    1\n",
            "dtype: int64\n",
            "Multiply two Series:\n",
            "0     2\n",
            "1    12\n",
            "2    30\n",
            "3    56\n",
            "4    90\n",
            "dtype: int64\n",
            "Divide Series1 by Series2:\n",
            "0    2.000000\n",
            "1    1.333333\n",
            "2    1.200000\n",
            "3    1.142857\n",
            "4    1.111111\n",
            "dtype: float64\n"
          ],
          "name": "stdout"
        }
      ]
    },
    {
      "cell_type": "markdown",
      "metadata": {
        "id": "82hg5W9IDiDG",
        "colab_type": "text"
      },
      "source": [
        "Write a Pandas program to compare (Equivalence, greater than, less than, not equal to )the elements of the two Pandas Series.\n",
        "\n",
        "Sample Series: [All positive numbers divisable by 7 upto 1000], [All positive numbers divisable by 11 upto 1000]"
      ]
    },
    {
      "cell_type": "code",
      "metadata": {
        "id": "4a0W4bs3DkCX",
        "colab_type": "code",
        "colab": {
          "base_uri": "https://localhost:8080/",
          "height": 629
        },
        "outputId": "b1d9fed7-7775-4327-bc9d-3eccb10e6b2a"
      },
      "source": [
        "import pandas as pd\n",
        "ds1 = pd.Series([2, 4, 6, 8, 10])\n",
        "ds2 = pd.Series([1, 3, 5, 7, 10])\n",
        "print(\"Series1:\")\n",
        "print(ds1)\n",
        "print(\"Series2:\")\n",
        "print(ds2)\n",
        "print(\"Compare the elements of the said Series:\")\n",
        "print(\"Equals:\")\n",
        "print(ds1 == ds2)\n",
        "print(\"Greater than:\")\n",
        "print(ds1 > ds2)\n",
        "print(\"Less than:\")\n",
        "print(ds1 < ds2)"
      ],
      "execution_count": 4,
      "outputs": [
        {
          "output_type": "stream",
          "text": [
            "Series1:\n",
            "0     2\n",
            "1     4\n",
            "2     6\n",
            "3     8\n",
            "4    10\n",
            "dtype: int64\n",
            "Series2:\n",
            "0     1\n",
            "1     3\n",
            "2     5\n",
            "3     7\n",
            "4    10\n",
            "dtype: int64\n",
            "Compare the elements of the said Series:\n",
            "Equals:\n",
            "0    False\n",
            "1    False\n",
            "2    False\n",
            "3    False\n",
            "4     True\n",
            "dtype: bool\n",
            "Greater than:\n",
            "0     True\n",
            "1     True\n",
            "2     True\n",
            "3     True\n",
            "4    False\n",
            "dtype: bool\n",
            "Less than:\n",
            "0    False\n",
            "1    False\n",
            "2    False\n",
            "3    False\n",
            "4    False\n",
            "dtype: bool\n"
          ],
          "name": "stdout"
        }
      ]
    },
    {
      "cell_type": "markdown",
      "metadata": {
        "id": "pWaW0pVdDq6c",
        "colab_type": "text"
      },
      "source": [
        "Write a Pandas program to convert a NumPy array to a Pandas series.\n",
        "\n",
        "Sample NumPy array: d1 = [10, 20, 30, 40, 50... 1000]"
      ]
    },
    {
      "cell_type": "code",
      "metadata": {
        "id": "aXDzvL3CDuHe",
        "colab_type": "code",
        "colab": {
          "base_uri": "https://localhost:8080/",
          "height": 170
        },
        "outputId": "7a1336c8-3f00-4fe5-fdff-c3603ea97215"
      },
      "source": [
        "import numpy as np\n",
        "import pandas as pd\n",
        "np_array = np.array([10, 20, 30, 40, 50])\n",
        "print(\"NumPy array:\")\n",
        "print(np_array)\n",
        "new_series = pd.Series(np_array)\n",
        "print(\"Converted Pandas series:\")\n",
        "print(new_series)"
      ],
      "execution_count": 5,
      "outputs": [
        {
          "output_type": "stream",
          "text": [
            "NumPy array:\n",
            "[10 20 30 40 50]\n",
            "Converted Pandas series:\n",
            "0    10\n",
            "1    20\n",
            "2    30\n",
            "3    40\n",
            "4    50\n",
            "dtype: int64\n"
          ],
          "name": "stdout"
        }
      ]
    },
    {
      "cell_type": "markdown",
      "metadata": {
        "id": "yIKHHK9AD1V6",
        "colab_type": "text"
      },
      "source": [
        "Write a Pandas program to convert a given Series to an array.\n",
        "\n",
        "Sample series is ['100', '200', ‘300’,’400’,’500’,'python', '300.12', '400',’is’,’great’,’language’]"
      ]
    },
    {
      "cell_type": "code",
      "metadata": {
        "id": "_XKe9e9-D84f",
        "colab_type": "code",
        "colab": {
          "base_uri": "https://localhost:8080/",
          "height": 289
        },
        "outputId": "20fe184e-2aba-4e7a-c2d5-1d3f3a5b4734"
      },
      "source": [
        "import pandas as pd\n",
        "import numpy as np\n",
        "s1 = pd.Series(['100', '200', '300','400','500','python', '300.12', '400','is','great','language'])\n",
        "print(\"Original Data Series:\")\n",
        "print(s1)\n",
        "print(\"Series to an array\")\n",
        "a = np.array(s1.values.tolist())\n",
        "print (a)"
      ],
      "execution_count": 6,
      "outputs": [
        {
          "output_type": "stream",
          "text": [
            "Original Data Series:\n",
            "0          100\n",
            "1          200\n",
            "2          300\n",
            "3          400\n",
            "4          500\n",
            "5       python\n",
            "6       300.12\n",
            "7          400\n",
            "8           is\n",
            "9        great\n",
            "10    language\n",
            "dtype: object\n",
            "Series to an array\n",
            "['100' '200' '300' '400' '500' 'python' '300.12' '400' 'is' 'great'\n",
            " 'language']\n"
          ],
          "name": "stdout"
        }
      ]
    },
    {
      "cell_type": "markdown",
      "metadata": {
        "id": "OZo-ZuchEEyk",
        "colab_type": "text"
      },
      "source": [
        "Write a Pandas program to sort a given Series.\n",
        "\n",
        "Sample series is ['100', '200', ‘300’,’400’,’500’,'python', '300.12', '400',’is’,’great’,’language’]"
      ]
    },
    {
      "cell_type": "code",
      "metadata": {
        "id": "IsnUQCL_EKEx",
        "colab_type": "code",
        "colab": {
          "base_uri": "https://localhost:8080/",
          "height": 289
        },
        "outputId": "6e514f56-1da4-406d-96a0-3611add6e820"
      },
      "source": [
        "import pandas as pd\n",
        "import numpy as np\n",
        "s1 = pd.Series(['100', '200', '300','400','500','python', '300.12', '400','is','great','language'])\n",
        "print(\"Original Data Series:\")\n",
        "print(s1)\n",
        "print(\"Series to an array\")\n",
        "a = np.array(s1.values.tolist())\n",
        "a.sort()\n",
        "print (a)"
      ],
      "execution_count": 7,
      "outputs": [
        {
          "output_type": "stream",
          "text": [
            "Original Data Series:\n",
            "0          100\n",
            "1          200\n",
            "2          300\n",
            "3          400\n",
            "4          500\n",
            "5       python\n",
            "6       300.12\n",
            "7          400\n",
            "8           is\n",
            "9        great\n",
            "10    language\n",
            "dtype: object\n",
            "Series to an array\n",
            "['100' '200' '300' '300.12' '400' '400' '500' 'great' 'is' 'language'\n",
            " 'python']\n"
          ],
          "name": "stdout"
        }
      ]
    },
    {
      "cell_type": "markdown",
      "metadata": {
        "id": "4sTmI4zwESI-",
        "colab_type": "text"
      },
      "source": [
        "Write a Pandas program to create a subsets of a given series based on value and condition.\n",
        "\n",
        "Sample NumPy array: d1 = [10, 20, 30, 40, 50... 1000]\n",
        "\n",
        "value and condtion : Subset 1 :numbers divisable by 7 Subset 2 : numbers divisable by 5"
      ]
    },
    {
      "cell_type": "code",
      "metadata": {
        "id": "0YRUcLIlEWuQ",
        "colab_type": "code",
        "colab": {
          "base_uri": "https://localhost:8080/",
          "height": 391
        },
        "outputId": "14f4c42c-b67d-4a0b-dd1d-60282dfbeb40"
      },
      "source": [
        "import pandas as pd\n",
        "s = pd.Series([0, 1,2,3,4,5,6,7,8,9,10])\n",
        "print(\"Original Data Series:\")\n",
        "print(s)\n",
        "print(\"\\nSubset of the above Data Series:\")\n",
        "n = 6\n",
        "new_s = s[s < n]\n",
        "print(new_s)"
      ],
      "execution_count": 8,
      "outputs": [
        {
          "output_type": "stream",
          "text": [
            "Original Data Series:\n",
            "0      0\n",
            "1      1\n",
            "2      2\n",
            "3      3\n",
            "4      4\n",
            "5      5\n",
            "6      6\n",
            "7      7\n",
            "8      8\n",
            "9      9\n",
            "10    10\n",
            "dtype: int64\n",
            "\n",
            "Subset of the above Data Series:\n",
            "0    0\n",
            "1    1\n",
            "2    2\n",
            "3    3\n",
            "4    4\n",
            "5    5\n",
            "dtype: int64\n"
          ],
          "name": "stdout"
        }
      ]
    },
    {
      "cell_type": "markdown",
      "metadata": {
        "id": "xvMcQzojEeCt",
        "colab_type": "text"
      },
      "source": [
        "Write a Pandas program to create the mean and standard deviation, maximum and minimum of the data of a given Series of the prime numbers upto 1000"
      ]
    },
    {
      "cell_type": "code",
      "metadata": {
        "id": "iA7tZCRxEhuY",
        "colab_type": "code",
        "colab": {
          "base_uri": "https://localhost:8080/",
          "height": 306
        },
        "outputId": "bea1209a-348c-4498-ba89-38cc3d9eacaa"
      },
      "source": [
        "import pandas as pd\n",
        "s = pd.Series(data = [x for x in range(1000) if x%2==0])\n",
        "print(\"Original Data Series:\")\n",
        "print(s)\n",
        "print(\"Mean of the said Data Series:\")\n",
        "print(s.mean())\n",
        "print(\"Standard deviation of the said Data Series:\")\n",
        "print(s.std())"
      ],
      "execution_count": 9,
      "outputs": [
        {
          "output_type": "stream",
          "text": [
            "Original Data Series:\n",
            "0        0\n",
            "1        2\n",
            "2        4\n",
            "3        6\n",
            "4        8\n",
            "      ... \n",
            "495    990\n",
            "496    992\n",
            "497    994\n",
            "498    996\n",
            "499    998\n",
            "Length: 500, dtype: int64\n",
            "Mean of the said Data Series:\n",
            "499.0\n",
            "Standard deviation of the said Data Series:\n",
            "288.9636655359978\n"
          ],
          "name": "stdout"
        }
      ]
    },
    {
      "cell_type": "markdown",
      "metadata": {
        "id": "OmjyXBogEl3l",
        "colab_type": "text"
      },
      "source": [
        "Write a Pandas program to get the elements of an array values into column-wise.\n",
        "\n",
        "Sample data: {‘X’:[All odd numbers but not divisable by 7 upto 1000], 'Y':[ All even numbers but not divisable by 5 upto 1000 ],'Z':[ All odd numbers but not divisable by 3 upto 1000]}"
      ]
    },
    {
      "cell_type": "code",
      "metadata": {
        "id": "QNsl2g3XEp13",
        "colab_type": "code",
        "colab": {
          "base_uri": "https://localhost:8080/",
          "height": 119
        },
        "outputId": "264779c8-4543-483c-f742-4e2a4a844fcb"
      },
      "source": [
        "import pandas as pd\n",
        "df = pd.DataFrame({'X':[78,85,96,80,86], 'Y':[84,94,89,83,86],'Z':[86,97,96,72,83]});\n",
        "print(df)"
      ],
      "execution_count": 10,
      "outputs": [
        {
          "output_type": "stream",
          "text": [
            "    X   Y   Z\n",
            "0  78  84  86\n",
            "1  85  94  97\n",
            "2  96  89  96\n",
            "3  80  83  72\n",
            "4  86  86  83\n"
          ],
          "name": "stdout"
        }
      ]
    },
    {
      "cell_type": "markdown",
      "metadata": {
        "id": "ZmqAOlsWEzvx",
        "colab_type": "text"
      },
      "source": [
        "Write a Pandas program to display the first 10 rows of the DataFrame for any particular three fields."
      ]
    },
    {
      "cell_type": "code",
      "metadata": {
        "id": "QiKj2ANzE4PJ",
        "colab_type": "code",
        "colab": {
          "base_uri": "https://localhost:8080/",
          "height": 102
        },
        "outputId": "0e657926-205f-4593-bc08-13b128410f75"
      },
      "source": [
        "import pandas as pd\n",
        "import numpy as np\n",
        "\n",
        "exam_data  = {'name': ['Anastasia', 'Dima', 'Katherine', 'James', 'Emily', 'Michael', 'Matthew', 'Laura', 'Kevin', 'Jonas'],\n",
        "        'score': [12.5, 9, 16.5, np.nan, 9, 20, 14.5, np.nan, 8, 19],\n",
        "        'attempts': [1, 3, 2, 3, 2, 3, 1, 1, 2, 1],\n",
        "        'qualify': ['yes', 'no', 'yes', 'no', 'no', 'yes', 'yes', 'no', 'no', 'yes']}\n",
        "labels = ['a', 'b', 'c', 'd', 'e', 'f', 'g', 'h', 'i', 'j']\n",
        "\n",
        "df = pd.DataFrame(exam_data , index=labels)\n",
        "print(\"First three rows of the data frame:\")\n",
        "print(df.iloc[:3])"
      ],
      "execution_count": 11,
      "outputs": [
        {
          "output_type": "stream",
          "text": [
            "First three rows of the data frame:\n",
            "        name  score  attempts qualify\n",
            "a  Anastasia   12.5         1     yes\n",
            "b       Dima    9.0         3      no\n",
            "c  Katherine   16.5         2     yes\n"
          ],
          "name": "stdout"
        }
      ]
    },
    {
      "cell_type": "markdown",
      "metadata": {
        "id": "dT13IT06P72A",
        "colab_type": "text"
      },
      "source": [
        "Write a NumPy program to create a random 4x4 array and extract the 2nd and 3rd rows of the array and store them into a variable"
      ]
    },
    {
      "cell_type": "code",
      "metadata": {
        "id": "Lueyq8xcP_pd",
        "colab_type": "code",
        "colab": {
          "base_uri": "https://localhost:8080/",
          "height": 102
        },
        "outputId": "0acf43fc-d2ed-4f9a-9def-4898097e6e84"
      },
      "source": [
        "import numpy as np\n",
        "x = np.random.random((4,4))\n",
        "print(\"Original Array:\")\n",
        "print(x)"
      ],
      "execution_count": 19,
      "outputs": [
        {
          "output_type": "stream",
          "text": [
            "Original Array:\n",
            "[[0.50672662 0.338588   0.7353808  0.44576886]\n",
            " [0.01614311 0.24598408 0.10305687 0.37896995]\n",
            " [0.05859962 0.20358796 0.232968   0.16907634]\n",
            " [0.66199031 0.57620225 0.95004405 0.93774867]]\n"
          ],
          "name": "stdout"
        }
      ]
    },
    {
      "cell_type": "markdown",
      "metadata": {
        "id": "Lus881bUQOG_",
        "colab_type": "text"
      },
      "source": [
        "Write a NumPy program to create a 10x10 array with random values and find the minimum and maximum values."
      ]
    },
    {
      "cell_type": "code",
      "metadata": {
        "id": "QbysZfa3QPje",
        "colab_type": "code",
        "colab": {
          "base_uri": "https://localhost:8080/",
          "height": 408
        },
        "outputId": "0ebe22e0-d299-475b-dd6c-b02728092a7b"
      },
      "source": [
        "import numpy as np\n",
        "x = np.random.random((10,10))\n",
        "print(\"Original Array:\")\n",
        "print(x) \n",
        "xmin, xmax = x.min(), x.max()\n",
        "print(\"Minimum and Maximum Values:\")\n",
        "print(xmin, xmax)"
      ],
      "execution_count": 20,
      "outputs": [
        {
          "output_type": "stream",
          "text": [
            "Original Array:\n",
            "[[0.10862292 0.8906626  0.27811061 0.70428513 0.41323708 0.70093329\n",
            "  0.31685228 0.89980785 0.75005066 0.10458588]\n",
            " [0.3833256  0.24991798 0.40680334 0.24061547 0.7740034  0.0101097\n",
            "  0.00163038 0.83595863 0.07187708 0.36177301]\n",
            " [0.6244015  0.02560703 0.23220292 0.23925487 0.4500422  0.00800319\n",
            "  0.01418862 0.40914137 0.69625908 0.17942487]\n",
            " [0.06649347 0.51820856 0.78715945 0.68621036 0.01330541 0.16710119\n",
            "  0.73095544 0.22162911 0.79610845 0.72769751]\n",
            " [0.71494029 0.61132757 0.40584722 0.77964934 0.8007021  0.10874682\n",
            "  0.60723686 0.73855478 0.41877536 0.99706691]\n",
            " [0.34842478 0.65925726 0.49045864 0.73966571 0.00790658 0.73652345\n",
            "  0.75231042 0.80645197 0.49673719 0.68943413]\n",
            " [0.82868942 0.24267654 0.96297456 0.68152556 0.5571584  0.2195392\n",
            "  0.63927478 0.46168808 0.05545085 0.32201287]\n",
            " [0.67202224 0.83194031 0.88747034 0.53187563 0.64135729 0.10490515\n",
            "  0.63337218 0.75717995 0.75943447 0.3343667 ]\n",
            " [0.4341648  0.56076599 0.89192875 0.33316095 0.33482971 0.884593\n",
            "  0.46955811 0.64523086 0.09036822 0.19702601]\n",
            " [0.84782071 0.47676507 0.99528661 0.14298183 0.4212935  0.0882876\n",
            "  0.03972379 0.46904343 0.0881927  0.17232219]]\n",
            "Minimum and Maximum Values:\n",
            "0.0016303794541913108 0.9970669111092351\n"
          ],
          "name": "stdout"
        }
      ]
    },
    {
      "cell_type": "markdown",
      "metadata": {
        "id": "e7f-YKtHQg7m",
        "colab_type": "text"
      },
      "source": [
        "Write a NumPy program to generate 8 random integers between 100 and 300"
      ]
    },
    {
      "cell_type": "code",
      "metadata": {
        "id": "cEjntkTYQkgj",
        "colab_type": "code",
        "colab": {
          "base_uri": "https://localhost:8080/",
          "height": 34
        },
        "outputId": "0cffcf49-e04d-4da8-bd4a-f141aecf30f2"
      },
      "source": [
        "import numpy as np\n",
        "x = np.random.randint(low=100, high=300, size=8)\n",
        "print(x)"
      ],
      "execution_count": 21,
      "outputs": [
        {
          "output_type": "stream",
          "text": [
            "[194 194 163 157 266 189 234 105]\n"
          ],
          "name": "stdout"
        }
      ]
    },
    {
      "cell_type": "markdown",
      "metadata": {
        "id": "OstfEdj4QrLA",
        "colab_type": "text"
      },
      "source": [
        "Write a NumPy program to create a random integer nos of size 20 and sort it."
      ]
    },
    {
      "cell_type": "code",
      "metadata": {
        "id": "7iNxqpgiQsxy",
        "colab_type": "code",
        "colab": {
          "base_uri": "https://localhost:8080/",
          "height": 187
        },
        "outputId": "23abdce7-3650-4fcf-b481-09f33997c92b"
      },
      "source": [
        "import numpy as np\n",
        "x = np.random.random(20)\n",
        "print(\"Original array:\")\n",
        "print(x)\n",
        "x.sort()\n",
        "print(\"Sorted array:\")\n",
        "print(x)"
      ],
      "execution_count": 22,
      "outputs": [
        {
          "output_type": "stream",
          "text": [
            "Original array:\n",
            "[0.10111894 0.84728172 0.53395978 0.40932222 0.4678759  0.72954556\n",
            " 0.80431849 0.7112858  0.71482133 0.41283513 0.91089418 0.61132526\n",
            " 0.73473843 0.16720175 0.87477053 0.82448624 0.16013402 0.39445471\n",
            " 0.92758359 0.55527493]\n",
            "Sorted array:\n",
            "[0.10111894 0.16013402 0.16720175 0.39445471 0.40932222 0.41283513\n",
            " 0.4678759  0.53395978 0.55527493 0.61132526 0.7112858  0.71482133\n",
            " 0.72954556 0.73473843 0.80431849 0.82448624 0.84728172 0.87477053\n",
            " 0.91089418 0.92758359]\n"
          ],
          "name": "stdout"
        }
      ]
    }
  ]
}